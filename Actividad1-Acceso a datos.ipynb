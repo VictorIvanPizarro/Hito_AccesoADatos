{
 "cells": [
  {
   "cell_type": "markdown",
   "id": "909c8415",
   "metadata": {},
   "source": [
    "# Acceso a datos en Python (similar Django)\n",
    "\n",
    "Diseño de base de datos en SQLite. Base de datos tienda, tabla clientes.\n",
    "Diseña un programa en Python que permita acceder a la tabla de clientes.\n",
    "    \n",
    "    Insertar - C\n",
    "    Seleccionar - R\n",
    "    Update - U\n",
    "    Eliminar - D"
   ]
  },
  {
   "cell_type": "markdown",
   "id": "d1eb9a32",
   "metadata": {},
   "source": [
    "Para utilizar SQLite3 en Python, primero deberás importar el módulo sqlite3 y luego crear un objeto de conexión para conectarnos a la base de datos. Este nos permitirá ejecutar las sentencias SQL.\n",
    "Un objeto de conexión se crea utilizando la función connect ():\n",
    "\n",
    "    con = sqlite3.connect('tienda.db')\n",
    "    Se creará un nuevo archivo llamado “tienda.db” donde se almacenará nuestra base de datos.\n",
    "\n",
    "Para ejecutar sentencias de SQLite en Python, necesita un objeto cursor.\n",
    "Para ejecutar sentencias de SQLite3, primero se establece una conexión y luego se crea un objeto cursor utilizando el objeto de conexión de la siguiente manera:\n",
    "\n",
    "    con = sqlite3.connect('mydatabase.db')\n",
    "    cursorObj = con.cursor()\n",
    "\n",
    "Ahora podemos usar el objeto cursor para llamar al método execute () para ejecutar cualquier consulta SQL.\n",
    "\n",
    "\n",
    "Cuando creas una conexión con SQLite, un archivo de base de datos se crea automáticamente si no existe ya. Este archivo de base de datos se crea en el disco, ademas, también podemos crear una base de datos en la RAM usando\n",
    "(:memory:) con la función de conexión. Esta base de datos se llama base de datos en memoria.\n",
    "\n",
    "\n",
    "Para crear una tabla en SQLite3, puede usar la consulta CREATE TABLE en el método execute ().\n",
    "\n",
    "    Se crea el objeto de conexión.\n",
    "    El objeto cursor se crea utilizando el objeto de conexión\n",
    "    Usando el objeto del cursor, se ejecuta el método execute con la consulta CREATE TABLE como parámetro\n"
   ]
  },
  {
   "cell_type": "code",
   "execution_count": 10,
   "id": "d77a45c1",
   "metadata": {},
   "outputs": [],
   "source": [
    "import sqlite3\n",
    "from sqlite3 import Error\n",
    "\n",
    "def sql_connection():\n",
    "    #Método para establecer la conexión\n",
    "    try:\n",
    "        con = sqlite3.connect('tienda.db')\n",
    "        return con\n",
    "    except Error:\n",
    "        print(Error)\n",
    "\n",
    "def sql_table(con):\n",
    "    #Metodo que  crea un objeto cursor para ejecutar la sentencia de create table\n",
    "    cursorObj = con.cursor()\n",
    "    cursorObj.execute(\"CREATE TABLE clientes(id integer PRIMARY KEY AUTOINCREMENT, nombre text, apellido1 text , apellido2 text, dni text)\")\n",
    "    con.commit()#guarda todos los cambios que hacemos\n",
    "\n",
    "#Llamamos a ambos métodos\n",
    "con = sql_connection()#Establecemos conexión/Creamos base de datos\n",
    "sql_table(con)#Creamos la tabla de clientes\n"
   ]
  },
  {
   "cell_type": "markdown",
   "id": "a85f1422",
   "metadata": {},
   "source": [
    "Para poder ver nuestra base de datos nos descargamos un navegador de la base de datos de sqlite:\n",
    "https://sqlitebrowser.org/dl/\n",
    "\n",
    "Una vez lo tenemos, abrimos el archivo 'tienda.db' que se habrá guardado en nuestro proyecto.\n",
    "Ahí podemos ver nuestra base de datos con la tabla clientes en ella.\n",
    "\n",
    "También podemos instalar la extensión SQLite Manager en Chrome para poder verla."
   ]
  },
  {
   "cell_type": "markdown",
   "id": "28910b06",
   "metadata": {},
   "source": [
    "## Insert"
   ]
  },
  {
   "cell_type": "code",
   "execution_count": 11,
   "id": "6d24eb03",
   "metadata": {},
   "outputs": [],
   "source": [
    "#Creamos el insert para introducir datos en la tabla\n",
    "con = sql_connection()#Establecemos conexión/Creamos base de datos\n",
    "def sql_insert(con, datos):\n",
    "    cursorObj = con.cursor()\n",
    "    cursorObj.execute('INSERT INTO clientes(nombre, apellido1, apellido2, dni) VALUES(?, ?, ?, ?)', datos)\n",
    "    #usamos el signo de interrogación (?) Como argumento para cada valor\n",
    "    con.commit()"
   ]
  },
  {
   "cell_type": "markdown",
   "id": "e68c5aed",
   "metadata": {},
   "source": [
    "Ahora vamos a insertar algunos datos en la tabla.\n",
    "Primero los debemos guardar en una variable, y luego ejecutar nuestro insert con esos datos:"
   ]
  },
  {
   "cell_type": "code",
   "execution_count": 12,
   "id": "b49e0dcd",
   "metadata": {
    "scrolled": true
   },
   "outputs": [],
   "source": [
    "datos = ('Victor', 'Pizarro', 'Rubio', '11111111P')#Datos que vamos a insertar en la tabla\n",
    "sql_insert(con, datos)#Ejecutamos el insert con nuestros datos"
   ]
  },
  {
   "cell_type": "markdown",
   "id": "678b15f3",
   "metadata": {},
   "source": [
    "##### cursorObj.execute(\"INSERT INTO clientes(nombre, apellido1, apellido2, dni) VALUES('Victor', 'Pizarro', 'Rubio', '11111111P')\")\n",
    "\n",
    "Este sería el equivalente sin interrogaciones. Sin embargo así podemos facilitar la introducción de datos"
   ]
  },
  {
   "cell_type": "code",
   "execution_count": 13,
   "id": "a170a430",
   "metadata": {},
   "outputs": [],
   "source": [
    "#Ejecutamos el siguiente código para introducir más datos\n",
    "datos = ('Pepe', 'Escudero', 'Gil', '22222222L')\n",
    "datos2 = ('Jose', 'Sanz', 'Mateos', '33333333T')\n",
    "\n",
    "sql_insert(con, datos)\n",
    "sql_insert(con, datos2)"
   ]
  },
  {
   "cell_type": "markdown",
   "id": "78f3ac07",
   "metadata": {},
   "source": [
    "## Select"
   ]
  },
  {
   "cell_type": "markdown",
   "id": "cfd7ac8e",
   "metadata": {},
   "source": [
    "Para seleccionar datos de una tabla en particular utilizamos la sentencia select.\n",
    "La instrucción SELECT se ejecuta dentro del método execute del objeto cursor.\n",
    "\n",
    "Si deseas seleccionar solamente algunas columnas de una tabla:\n",
    "select column1, column2 from tables_name"
   ]
  },
  {
   "cell_type": "code",
   "execution_count": 14,
   "id": "1b67d920",
   "metadata": {},
   "outputs": [
    {
     "name": "stdout",
     "output_type": "stream",
     "text": [
      "(1, 'Victor', 'Pizarro', 'Rubio', '11111111P')\n",
      "(2, 'Pepe', 'Escudero', 'Gil', '22222222L')\n",
      "(3, 'Jose', 'Sanz', 'Mateos', '33333333T')\n"
     ]
    }
   ],
   "source": [
    "def sql_select(con):\n",
    "    #metodo que nos muestra todos los datos de todos los clientes\n",
    "    cursorObj = con.cursor()\n",
    "    cursorObj.execute('SELECT * FROM clientes') #select * para mostrar todos los datos de los clientes\n",
    "    rows = cursorObj.fetchall() #Utilizamos el método fetchall() para obtener los datos seleccionados\n",
    "    for row in rows:\n",
    "        print(row)\n",
    "\n",
    "sql_select(con)"
   ]
  },
  {
   "cell_type": "code",
   "execution_count": 15,
   "id": "2eea4482",
   "metadata": {},
   "outputs": [
    {
     "name": "stdout",
     "output_type": "stream",
     "text": [
      "Mostrar datos buscando por ip:\n",
      "(2, 'Pepe', 'Escudero', 'Gil', '22222222L')\n"
     ]
    }
   ],
   "source": [
    "\"\"\"\n",
    "Supongamos que queremos buscar los datos de un cliente dado un id:\n",
    "\"\"\"\n",
    "def sql_select_id(con,valor):\n",
    "    cursorObj = con.cursor()\n",
    "    query = \"SELECT * FROM clientes WHERE id = \"+str(valor)\n",
    "    #Esto mismo de realizar la query a parte lo podriamos hacerlo en cualquier otro metodo(CRUD) para poder meter los valores deseados\n",
    "    cursorObj.execute(query)\n",
    "    rows = cursorObj.fetchall()\n",
    "    for row in rows:\n",
    "        print(row)\n",
    "print(\"Mostrar datos buscando por ip:\")\n",
    "sql_select_id(con,2)"
   ]
  },
  {
   "cell_type": "code",
   "execution_count": 16,
   "id": "f6960ec2",
   "metadata": {},
   "outputs": [
    {
     "name": "stdout",
     "output_type": "stream",
     "text": [
      "Mostrar dni de Pepe:\n",
      "('22222222L',)\n"
     ]
    }
   ],
   "source": [
    "\"\"\"\n",
    "Podemos realizar esto con la columna que queramos, y los datos que queramos.\n",
    "Por ejemplo, supongamos que queremos buscar el dni de un cliente dado su nombre:\n",
    "\"\"\"\n",
    "def sql_select_nombre(con,valor):\n",
    "    cursorObj = con.cursor()\n",
    "    sentencia = \"SELECT dni FROM clientes WHERE nombre = '\"+valor+\"'\" #Necesitamos meter el valor entre comillas para poder compararlo, pues es un String\n",
    "    cursorObj.execute(sentencia)\n",
    "    rows = cursorObj.fetchall()\n",
    "    for row in rows:\n",
    "        print(row)\n",
    "print(\"Mostrar dni de Pepe:\")\n",
    "sql_select_nombre(con,\"Pepe\")"
   ]
  },
  {
   "cell_type": "markdown",
   "id": "5df42a93",
   "metadata": {},
   "source": [
    "## Update"
   ]
  },
  {
   "cell_type": "markdown",
   "id": "13023698",
   "metadata": {},
   "source": [
    "Del mismo modo que hemos visto en para el select, podríamos crear otras funciones update según lo que queramos modificar,\n",
    "utilizando una variables dentro de nuestra query."
   ]
  },
  {
   "cell_type": "code",
   "execution_count": 17,
   "id": "fa529189",
   "metadata": {},
   "outputs": [
    {
     "name": "stdout",
     "output_type": "stream",
     "text": [
      "(1, 'Javier', 'Pizarro', 'Rubio', '11111111P')\n",
      "(2, 'Pepe', 'Escudero', 'Gil', '22222222L')\n",
      "(3, 'Jose', 'Sanz', 'Mateos', '33333333T')\n"
     ]
    }
   ],
   "source": [
    "def sql_update(con):\n",
    "    cursorObj = con.cursor()\n",
    "    cursorObj.execute('UPDATE clientes SET nombre = \"Javier\" where id = 1')\n",
    "    con.commit()\n",
    "\n",
    "sql_update(con)\n",
    "\n",
    "sql_select(con)#Para visualizarlo"
   ]
  },
  {
   "cell_type": "markdown",
   "id": "677333c0",
   "metadata": {},
   "source": [
    "## Delete"
   ]
  },
  {
   "cell_type": "markdown",
   "id": "038c54a9",
   "metadata": {},
   "source": [
    "Del mismo modo que hemos visto en para el select, podríamos crear otras funciones delete según lo que queramos modificar,\n",
    "utilizando una variables dentro de nuestra query."
   ]
  },
  {
   "cell_type": "code",
   "execution_count": 20,
   "id": "1eabc4b7",
   "metadata": {},
   "outputs": [
    {
     "name": "stdout",
     "output_type": "stream",
     "text": [
      "(2, 'Pepe', 'Escudero', 'Gil', '22222222L')\n",
      "(3, 'Jose', 'Sanz', 'Mateos', '33333333T')\n"
     ]
    }
   ],
   "source": [
    "def sql_delete(con):\n",
    "    cursorObj = con.cursor()\n",
    "    cursorObj.execute('DELETE FROM clientes where id = 1')\n",
    "    con.commit()\n",
    "\n",
    "sql_delete(con)\n",
    "\n",
    "sql_select(con)#Para visualizarlo"
   ]
  },
  {
   "cell_type": "code",
   "execution_count": null,
   "id": "8ddbcd54",
   "metadata": {},
   "outputs": [],
   "source": []
  }
 ],
 "metadata": {
  "kernelspec": {
   "display_name": "Python 3 (ipykernel)",
   "language": "python",
   "name": "python3"
  },
  "language_info": {
   "codemirror_mode": {
    "name": "ipython",
    "version": 3
   },
   "file_extension": ".py",
   "mimetype": "text/x-python",
   "name": "python",
   "nbconvert_exporter": "python",
   "pygments_lexer": "ipython3",
   "version": "3.9.7"
  }
 },
 "nbformat": 4,
 "nbformat_minor": 5
}
